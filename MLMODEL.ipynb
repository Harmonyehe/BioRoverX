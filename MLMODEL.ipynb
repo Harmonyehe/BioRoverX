{
  "cells": [
    {
      "cell_type": "code",
      "execution_count": null,
      "id": "85282e81-8541-4b7c-8fe4-12c04c9b14fe",
      "metadata": {
        "trusted": true
      },
      "outputs": [
        {
          "name": "stdout",
          "output_type": "stream",
          "text": [
            "✅ Accuracy: 1.0\n",
            "✅ Classification Report:\n",
            "              precision    recall  f1-score   support\n",
            "\n",
            "      Unsafe       1.00      1.00      1.00         9\n",
            "\n",
            "    accuracy                           1.00         9\n",
            "   macro avg       1.00      1.00      1.00         9\n",
            "weighted avg       1.00      1.00      1.00         9\n",
            "\n"
          ]
        }
      ],
      "source": [
        "import pandas as pd\n",
        "import numpy as np\n",
        "from sklearn.model_selection import train_test_split\n",
        "from sklearn.tree import DecisionTreeClassifier\n",
        "from sklearn.metrics import accuracy_score, classification_report\n",
        "\n",
        "# 1. Load your CSV\n",
        "df = pd.read_csv('sensor_log.csv')\n",
        "\n",
        "# 2. Clean column names\n",
        "df.columns = df.columns.str.strip()\n",
        "\n",
        "# 3. Convert all numeric columns to float\n",
        "for col in df.columns:\n",
        "    df[col] = pd.to_numeric(df[col], errors='coerce')\n",
        "\n",
        "# 4. Drop rows with NaNs (invalid entries)\n",
        "df = df.dropna()\n",
        "\n",
        "# 5. Create 'Label' column based on custom rules\n",
        "def classify_environment(row):\n",
        "    if (\n",
        "        20 <= row['Temp(C)'] <= 40 and\n",
        "        30 <= row['Humidity(%)'] <= 70 and\n",
        "        row['Pressure(hPa)'] >= 900 and\n",
        "        row['Gas'] < 300 and\n",
        "        row['Light'] >= 50 and\n",
        "        row['Proximity'] <= 3\n",
        "    ):\n",
        "        return 'Safe'\n",
        "    else:\n",
        "        return 'Unsafe'\n",
        "\n",
        "df['Label'] = df.apply(classify_environment, axis=1)\n",
        "\n",
        "# 6. Split into features and target\n",
        "X = df.drop('Label', axis=1)\n",
        "y = df['Label']\n",
        "\n",
        "# 7. Train-test split\n",
        "X_train, X_test, y_train, y_test = train_test_split(X, y, test_size=0.2, random_state=42)\n",
        "\n",
        "# 8. Train Decision Tree\n",
        "clf = DecisionTreeClassifier()\n",
        "clf.fit(X_train, y_train)\n",
        "\n",
        "# 9. Predict and evaluate\n",
        "y_pred = clf.predict(X_test)\n",
        "\n",
        "print(\"✅ Accuracy:\", accuracy_score(y_test, y_pred))\n",
        "print(\"✅ Classification Report:\")\n",
        "print(classification_report(y_test, y_pred))"
      ]
    },
    {
      "cell_type": "code",
      "execution_count": null,
      "id": "b96b27e2-5cd3-43c9-89ee-a3bf7e129f68",
      "metadata": {
        "trusted": true
      },
      "outputs": [],
      "source": []
    }
  ],
  "metadata": {
    "kernelspec": {
      "display_name": "Python (Pyodide)",
      "language": "python",
      "name": "python"
    },
    "language_info": {
      "codemirror_mode": {
        "name": "python",
        "version": 3
      },
      "file_extension": ".py",
      "mimetype": "text/x-python",
      "name": "python",
      "nbconvert_exporter": "python",
      "pygments_lexer": "ipython3",
      "version": "3.8"
    }
  },
  "nbformat": 4,
  "nbformat_minor": 5
}
